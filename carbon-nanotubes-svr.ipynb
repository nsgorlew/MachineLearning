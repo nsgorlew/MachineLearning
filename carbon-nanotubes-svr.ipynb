{
 "cells": [
  {
   "cell_type": "code",
   "execution_count": null,
   "metadata": {
    "execution": {
     "iopub.execute_input": "2021-05-21T17:03:25.509995Z",
     "iopub.status.busy": "2021-05-21T17:03:25.509564Z",
     "iopub.status.idle": "2021-05-21T17:03:27.757189Z",
     "shell.execute_reply": "2021-05-21T17:03:27.756267Z",
     "shell.execute_reply.started": "2021-05-21T17:03:25.509897Z"
    }
   },
   "outputs": [],
   "source": [
    "import numpy as np\n",
    "import pandas as pd\n",
    "from sklearn.model_selection import train_test_split\n",
    "from sklearn.preprocessing import scale \n",
    "from sklearn import model_selection\n",
    "from sklearn.svm import SVR\n",
    "from sklearn.metrics import mean_squared_error\n",
    "import matplotlib.pyplot as plt\n",
    "from mpl_toolkits.mplot3d import Axes3D\n",
    "from sklearn.pipeline import make_pipeline\n",
    "from sklearn.preprocessing import StandardScaler\n",
    "%matplotlib inline"
   ]
  },
  {
   "cell_type": "code",
   "execution_count": null,
   "metadata": {
    "execution": {
     "iopub.execute_input": "2021-05-21T17:10:06.197436Z",
     "iopub.status.busy": "2021-05-21T17:10:06.197049Z",
     "iopub.status.idle": "2021-05-21T17:10:06.275649Z",
     "shell.execute_reply": "2021-05-21T17:10:06.274551Z",
     "shell.execute_reply.started": "2021-05-21T17:10:06.197406Z"
    }
   },
   "outputs": [],
   "source": [
    "data = pd.read_csv(\"/kaggle/input/carbon-nanotubes/carbon_nanotubes.csv\",decimal=',')\n",
    "data.head(10)"
   ]
  },
  {
   "cell_type": "code",
   "execution_count": null,
   "metadata": {
    "execution": {
     "iopub.execute_input": "2021-05-21T17:26:13.653370Z",
     "iopub.status.busy": "2021-05-21T17:26:13.653003Z",
     "iopub.status.idle": "2021-05-21T17:26:14.332498Z",
     "shell.execute_reply": "2021-05-21T17:26:14.331397Z",
     "shell.execute_reply.started": "2021-05-21T17:26:13.653330Z"
    }
   },
   "outputs": [],
   "source": [
    "#visualize calculated atomic coordinate data\n",
    "fig = plt.figure(figsize=(12,9))\n",
    "ax = Axes3D(fig)\n",
    "xgraph1 = np.array(data.iloc[:,2])\n",
    "ygraph1 = np.array(data.iloc[:,3])\n",
    "zgraph1 = np.array(data.iloc[:,4])\n",
    "xgraph2 = np.array(data.iloc[:,5])\n",
    "ygraph2 = np.array(data.iloc[:,6])\n",
    "zgraph2 = np.array(data.iloc[:,7])\n",
    "ax.scatter3D(xgraph1,ygraph1,zgraph1,color='green')\n",
    "ax.scatter3D(xgraph2,ygraph2,zgraph2,color='red')\n",
    "plt.title(\"atomic coordinates\")"
   ]
  },
  {
   "cell_type": "code",
   "execution_count": null,
   "metadata": {
    "execution": {
     "iopub.execute_input": "2021-05-21T18:54:55.179079Z",
     "iopub.status.busy": "2021-05-21T18:54:55.178640Z",
     "iopub.status.idle": "2021-05-21T18:54:55.195700Z",
     "shell.execute_reply": "2021-05-21T18:54:55.194663Z",
     "shell.execute_reply.started": "2021-05-21T18:54:55.179037Z"
    }
   },
   "outputs": [],
   "source": [
    "#basis vectors of graphene network use an a of 0.246nm\n",
    "a0 = 0.246\n",
    "#magnitudes of perimeter vector definition\n",
    "mag_perim_vector = a0 * np.sqrt(np.array(data.iloc[:,0])**2 + np.array(data.iloc[:,1])**2 + np.array(data.iloc[:,0])*np.array(data.iloc[:,1]))\n",
    "\n",
    "#magnitudes of estimated atomic coordinate vectors\n",
    "mag_est_atomic_coords = np.sqrt(np.array(data.iloc[:,2])**2 + np.array(data.iloc[:,3])**2 + np.array(data.iloc[:,4])**2)\n",
    "\n",
    "#magnitudes of calc atomic coordinate vectors\n",
    "mag_calc_atomic_coords = np.sqrt(np.array(data.iloc[:,5])**2 + np.array(data.iloc[:,6])**2 + np.array(data.iloc[:,7])**2)\n",
    "\n",
    "#create set(s) for svr\n",
    "X = np.vstack((mag_perim_vector,mag_est_atomic_coords)).T\n",
    "y = mag_calc_atomic_coords\n",
    "X_train, X_test, y_train, y_test = train_test_split(X,y,test_size=0.20,random_state=42)\n",
    "print(X_train)\n"
   ]
  },
  {
   "cell_type": "code",
   "execution_count": 47,
   "metadata": {
    "execution": {
     "iopub.execute_input": "2021-05-21T19:12:38.557539Z",
     "iopub.status.busy": "2021-05-21T19:12:38.557178Z",
     "iopub.status.idle": "2021-05-21T19:12:38.693094Z",
     "shell.execute_reply": "2021-05-21T19:12:38.691927Z",
     "shell.execute_reply.started": "2021-05-21T19:12:38.557507Z"
    }
   },
   "outputs": [
    {
     "data": {
      "text/plain": [
       "0.9938512079903288"
      ]
     },
     "execution_count": 47,
     "metadata": {},
     "output_type": "execute_result"
    }
   ],
   "source": [
    "#SVR using magnitudes of perim vectors and magnitudes of atomic coords\n",
    "regr = make_pipeline(StandardScaler(),SVR(C=0.05,epsilon=0.04))\n",
    "regr.fit(X_train,y_train)\n",
    "regr.predict(X_test)\n",
    "regr.score(X_test,y_test,sample_weight=None)"
   ]
  }
 ],
 "metadata": {
  "kernelspec": {
   "display_name": "Python 3",
   "language": "python",
   "name": "python3"
  },
  "language_info": {
   "codemirror_mode": {
    "name": "ipython",
    "version": 3
   },
   "file_extension": ".py",
   "mimetype": "text/x-python",
   "name": "python",
   "nbconvert_exporter": "python",
   "pygments_lexer": "ipython3",
   "version": "3.7.0"
  }
 },
 "nbformat": 4,
 "nbformat_minor": 4
}
