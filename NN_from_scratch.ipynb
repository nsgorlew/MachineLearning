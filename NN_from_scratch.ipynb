{
 "cells": [
  {
   "cell_type": "code",
   "execution_count": 1,
   "id": "f9d0d2b0",
   "metadata": {},
   "outputs": [],
   "source": [
    "#import numpy\n",
    "import numpy as np"
   ]
  },
  {
   "cell_type": "code",
   "execution_count": 2,
   "id": "d546ccaf",
   "metadata": {},
   "outputs": [],
   "source": [
    "class NN():\n",
    "    \n",
    "    def __init__(self):\n",
    "        #seed rng\n",
    "        np.random.seed(1)\n",
    "        \n",
    "        #initialize weights to a 3x1 matrix with values between -1 to 1\n",
    "        self.weights = 2 * np.random.random((3,1)) - 1\n",
    "        \n",
    "        \n",
    "    def sign(self,x):\n",
    "        #activation function\n",
    "        return 1/(1 + np.exp(-x))\n",
    "    \n",
    "    def sign_deriv(self,x):\n",
    "        #derivative of sigmoid is sigmoid*(1-sigmoid)\n",
    "        return x*(1-x)\n",
    "    \n",
    "    def train(self,train_inputs,train_outputs,iterations):\n",
    "        for iteration in range(iterations):\n",
    "            output = self.NNcycle(train_inputs)\n",
    "            \n",
    "            #calculate loss\n",
    "            loss = train_output - output\n",
    "            \n",
    "            #error gets multiplied by input and gradient of sigmoid\n",
    "            update = np.dot(train_inputs.T,loss*self.sign_deriv(output))\n",
    "            \n",
    "            #adjust weights\n",
    "            self.weights += update\n",
    "    \n",
    "    #pass inputs through NN to get output\n",
    "    def NNcycle(self,inputs):\n",
    "        inputs = inputs.astype(float)\n",
    "        \n",
    "        output = self.sigmoid(np.dot(inputs,self.weights))\n",
    "        \n",
    "        return output\n",
    "            "
   ]
  },
  {
   "cell_type": "code",
   "execution_count": 4,
   "id": "317b39dd",
   "metadata": {},
   "outputs": [
    {
     "name": "stdout",
     "output_type": "stream",
     "text": [
      "[[-0.16595599]\n",
      " [ 0.44064899]\n",
      " [-0.99977125]]\n"
     ]
    }
   ],
   "source": [
    "nn = NN()\n",
    "print(nn.weights)"
   ]
  },
  {
   "cell_type": "code",
   "execution_count": null,
   "id": "be47a04a",
   "metadata": {},
   "outputs": [],
   "source": []
  }
 ],
 "metadata": {
  "kernelspec": {
   "display_name": "Python 3",
   "language": "python",
   "name": "python3"
  },
  "language_info": {
   "codemirror_mode": {
    "name": "ipython",
    "version": 3
   },
   "file_extension": ".py",
   "mimetype": "text/x-python",
   "name": "python",
   "nbconvert_exporter": "python",
   "pygments_lexer": "ipython3",
   "version": "3.7.0"
  }
 },
 "nbformat": 4,
 "nbformat_minor": 5
}
